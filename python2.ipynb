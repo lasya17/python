{
 "cells": [
  {
   "cell_type": "markdown",
   "metadata": {},
   "source": [
    "# reversing the string"
   ]
  },
  {
   "cell_type": "code",
   "execution_count": 1,
   "metadata": {},
   "outputs": [
    {
     "name": "stdout",
     "output_type": "stream",
     "text": [
      "Enter stringlasya\n",
      "lasya\n",
      "aysal\n"
     ]
    }
   ],
   "source": [
    "s=input(\"Enter string\")\n",
    "print(s)\n",
    "s1=s[::-1]\n",
    "print(s1)"
   ]
  },
  {
   "cell_type": "markdown",
   "metadata": {},
   "source": [
    "# reversing the order of words"
   ]
  },
  {
   "cell_type": "code",
   "execution_count": 2,
   "metadata": {},
   "outputs": [
    {
     "name": "stdout",
     "output_type": "stream",
     "text": [
      "Enter string:breaking bad\n",
      "breaking bad\n",
      "bad breaking\n"
     ]
    }
   ],
   "source": [
    "s=input(\"Enter string:\")\n",
    "print(s)\n",
    "l1=s.split(' ')\n",
    "l2=l1[::-1]\n",
    "s1=' '.join(l2)\n",
    "print(s1)"
   ]
  },
  {
   "cell_type": "markdown",
   "metadata": {},
   "source": [
    "# characters at even and odd position of a string"
   ]
  },
  {
   "cell_type": "code",
   "execution_count": 3,
   "metadata": {},
   "outputs": [
    {
     "name": "stdout",
     "output_type": "stream",
     "text": [
      "Enter stringabc\n",
      "ac\n",
      "b\n"
     ]
    }
   ],
   "source": [
    "s=input(\"Enter string\")\n",
    "s1=s[::2]\n",
    "print(s1)\n",
    "s2=s[1::2]\n",
    "print(s2)"
   ]
  },
  {
   "cell_type": "markdown",
   "metadata": {},
   "source": [
    "# merging of two strings by taking characters alternatively"
   ]
  },
  {
   "cell_type": "code",
   "execution_count": 4,
   "metadata": {},
   "outputs": [
    {
     "name": "stdout",
     "output_type": "stream",
     "text": [
      "enter s1:how\n",
      "enter s2:are\n",
      "haorwe\n"
     ]
    }
   ],
   "source": [
    "a = input(\"enter s1:\")\n",
    "b = input(\"enter s2:\")\n",
    "c = ''\n",
    "for i in range(len(a)):\n",
    "    c += a[i] + b[i]\n",
    "print(c)"
   ]
  },
  {
   "cell_type": "markdown",
   "metadata": {},
   "source": [
    "# reversing internal content of each word in a string"
   ]
  },
  {
   "cell_type": "code",
   "execution_count": 5,
   "metadata": {},
   "outputs": [
    {
     "name": "stdout",
     "output_type": "stream",
     "text": [
      "enter string:little things\n",
      "elttil sgniht\n"
     ]
    }
   ],
   "source": [
    "s=input(\"enter string:\")\n",
    "l=s.split(' ')\n",
    "words=l\n",
    "s1=(s[::-1])\n",
    "l1=s1.split(' ')\n",
    "l2=l1[::-1]\n",
    "s2=' '.join(l2)\n",
    "print(s2)"
   ]
  },
  {
   "cell_type": "code",
   "execution_count": null,
   "metadata": {},
   "outputs": [],
   "source": []
  }
 ],
 "metadata": {
  "kernelspec": {
   "display_name": "Python 3",
   "language": "python",
   "name": "python3"
  },
  "language_info": {
   "codemirror_mode": {
    "name": "ipython",
    "version": 3
   },
   "file_extension": ".py",
   "mimetype": "text/x-python",
   "name": "python",
   "nbconvert_exporter": "python",
   "pygments_lexer": "ipython3",
   "version": "3.8.5"
  }
 },
 "nbformat": 4,
 "nbformat_minor": 4
}
